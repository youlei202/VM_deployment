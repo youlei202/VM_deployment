{
 "cells": [
  {
   "cell_type": "code",
   "execution_count": 1,
   "metadata": {
    "collapsed": true
   },
   "outputs": [],
   "source": [
    "import numpy as np\n",
    "import math\n",
    "from arrival_rate import *\n",
    "from reward import *"
   ]
  },
  {
   "cell_type": "code",
   "execution_count": 2,
   "metadata": {
    "collapsed": true
   },
   "outputs": [],
   "source": [
    "from tensorforce.agents import PPOAgent\n",
    "\n",
    "# Create a Proximal Policy Optimization agent\n",
    "agent = PPOAgent(\n",
    "        states_spec=dict(type='float', shape=(3)),\n",
    "        actions_spec=dict(type='float', shape=(1 + ArrivalController.slot_num)),\n",
    "        network_spec=[\n",
    "            dict(type='dense', size=64),\n",
    "            dict(type='dense', size=64)\n",
    "            ],\n",
    "        batch_size=1000,\n",
    "        step_optimizer=dict(\n",
    "            type='adam',\n",
    "            learning_rate=1e-4\n",
    "            )\n",
    "        )"
   ]
  },
  {
   "cell_type": "code",
   "execution_count": 50,
   "metadata": {
    "collapsed": true
   },
   "outputs": [],
   "source": [
    "class MyClient:\n",
    "    \n",
    "    total_budget = 500\n",
    "    \n",
    "    def __init__(self):\n",
    "        self.latency = [1, 1, 1]\n",
    "        \n",
    "        self.controller = ArrivalController(latency_list = self.latency)\n",
    "    \n",
    "        self.purchase_budget = 140\n",
    "        self.transfer_budget = [ 15, 15, 15, 15, 15, 15, 15, 15, 15, 15, \n",
    "                                 15, 15, 15, 15, 15, 15, 15, 15, 15, 15,\n",
    "                                 15, 15, 15, 15\n",
    "                               ]\n",
    "\n",
    "        # We must have purchase_budget + transfer_budget <= total_budget !\n",
    "        \n",
    "    def get_state(self):\n",
    "        return self.latency\n",
    "    \n",
    "    def execute(self, action): # action is in the exactly same format as state\n",
    "        if sum(action) > MyClient.total_budget:\n",
    "            self.purchase_budget = 0\n",
    "            self.transfer_budget = [0 for i in range(ArrivalController.slot_num)]\n",
    "        self.purchase_budget = action[0]\n",
    "        self.transfer_budget = action[1:ArrivalController.slot_num+1]\n",
    "    \n",
    "        self.controller.set_latency(self.latency)\n",
    "        \n",
    "        d = self.controller.get_arrival_users()\n",
    "        P = self.purchase_budget\n",
    "        C = self.transfer_budget\n",
    "    \n",
    "        problem = Problem(d,P,C)\n",
    "        result = problem.solve()\n",
    "        \n",
    "        reward = result[0]\n",
    "        x = result[1]\n",
    "        self.latency = map(lambda x: sum(x)/ArrivalController.slot_num,\n",
    "                           np.divide( np.array(d), np.array(x) ) )   \n",
    "        return reward"
   ]
  },
  {
   "cell_type": "code",
   "execution_count": 124,
   "metadata": {
    "scrolled": true
   },
   "outputs": [
    {
     "name": "stdout",
     "output_type": "stream",
     "text": [
      "[0.72919617632858247, 0.84782110456631798, 1.0054684813477202] 0.505494505495\n"
     ]
    }
   ],
   "source": [
    "# Get new data from somewhere, e.g. a client to a web app\n",
    "client = MyClient()\n",
    "\n",
    "# Poll new state from client\n",
    "state = client.get_state()\n",
    "\n",
    "# Get prediction from agent, execute\n",
    "# action = agent.act(state)\n",
    "action = [140, 15, 15, 15, 15, 15, 15, 15, 15, 15, 15, \n",
    "               15, 15, 15, 15, 15, 15, 15, 15, 15, 15,\n",
    "               15, 15, 15, 15\n",
    "         ]\n",
    "reward = client.execute(action)\n",
    "print client.get_state(), reward\n",
    "# Add experience, agent automatically updates model according to batch size\n",
    "agent.observe(reward=reward, terminal=False)\n",
    "\n"
   ]
  },
  {
   "cell_type": "code",
   "execution_count": null,
   "metadata": {
    "collapsed": true
   },
   "outputs": [],
   "source": []
  }
 ],
 "metadata": {
  "kernelspec": {
   "display_name": "Python 2",
   "language": "python",
   "name": "python2"
  },
  "language_info": {
   "codemirror_mode": {
    "name": "ipython",
    "version": 2
   },
   "file_extension": ".py",
   "mimetype": "text/x-python",
   "name": "python",
   "nbconvert_exporter": "python",
   "pygments_lexer": "ipython2",
   "version": "2.7.13"
  }
 },
 "nbformat": 4,
 "nbformat_minor": 2
}
