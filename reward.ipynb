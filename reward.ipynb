{
 "cells": [
  {
   "cell_type": "code",
   "execution_count": 1,
   "metadata": {
    "collapsed": true
   },
   "outputs": [],
   "source": [
    "import sys\n",
    "import scipy.io\n",
    "import numpy as np\n",
    "import math\n",
    "import csv\n",
    "from operator import add\n",
    "\n",
    "from gurobipy import *\n",
    "\n",
    "# set the directory path\n",
    "import os\n",
    "folder_name = os.getcwd()\n",
    "\n",
    "import time\n",
    "\n",
    "from arrival_rate import *\n",
    "\n",
    "epsilon = 10e-6"
   ]
  },
  {
   "cell_type": "code",
   "execution_count": 2,
   "metadata": {
    "collapsed": true
   },
   "outputs": [],
   "source": [
    "class Problem:\n",
    "    \n",
    "    def __init__(self, d, P, C, c = None, p = None):\n",
    "        if c == None:\n",
    "            self.c = [ [2, 3, 4], \n",
    "                  [3, 1, 2],\n",
    "                  [5, 2, 2] ]\n",
    "        else:\n",
    "            self.c = c\n",
    "            \n",
    "        if p == None:\n",
    "            self.p = [ 10, 20, 4, 5, 6, 5, 2, 3, 4, 2, \n",
    "                  2, 2, 3, 3, 2, 2, 5, 3, 2, 3,\n",
    "                  2, 1, 1, 1\n",
    "                ]*2\n",
    "        else:\n",
    "            self.p = p\n",
    "            \n",
    "        self.d = d\n",
    "        self.P = P\n",
    "        self.C = C\n",
    "        self.T = len(self.d[0])\n",
    "        self.I = len(self.c[0])\n",
    "        \n",
    "    def solve(self):\n",
    "        model = Model('Integer Programming')\n",
    "        model.modelSense = GRB.MAXIMIZE\n",
    "        model.setParam('OutputFlag', False) # slience output\n",
    "\n",
    "        x = []\n",
    "        for j in range(self.I):\n",
    "            x_j = []\n",
    "            for t in range(self.T):\n",
    "                x_j.append(model.addVar(vtype = GRB.INTEGER))\n",
    "            x.append(x_j)\n",
    "\n",
    "        model.update()\n",
    "\n",
    "        y = []\n",
    "        for i in range(self.I):\n",
    "            y_i = []\n",
    "            for j in range(self.I):\n",
    "                y_ij = []\n",
    "                for t in range(self.T):\n",
    "                    y_ij.append(model.addVar(vtype = GRB.INTEGER))\n",
    "                y_i.append(y_ij)\n",
    "            y.append(y_i)\n",
    "\n",
    "        model.update()\n",
    "\n",
    "        z = []\n",
    "        for j in range(self.I):\n",
    "            z_j = []\n",
    "            for t in range(self.T):\n",
    "                z_j.append(model.addVar(vtype = GRB.INTEGER))\n",
    "            z.append(z_j)    \n",
    "        model.update()\n",
    "\n",
    "        eta = model.addVar(vtype = GRB.CONTINUOUS)\n",
    "\n",
    "        for t in range(self.T):\n",
    "            model.addConstr( sum(self.c[i][j]*y[i][j][t] for j in range(self.I) for i in range(self.I) ) <= self.C[t] ) \n",
    "        model.update()\n",
    "\n",
    "        for j in range(self.I):\n",
    "            model.addConstr( x[j][0] == z[j][0] )\n",
    "        model.update()\n",
    "\n",
    "        for j in range(self.I):\n",
    "            for t in range(1,self.T):\n",
    "                model.addConstr(x[j][t] == x[j][t-1] + sum(y[i][j][t] for i in range(self.I)) + z[j][t] )\n",
    "        model.update()\n",
    "\n",
    "        model.addConstr( sum(self.p[t]*z[j][t] for j in range(self.I) for t in range(self.T)) <= self.P )\n",
    "        model.update()\n",
    "\n",
    "        for i in range(self.I):\n",
    "            for t in range(self.T):\n",
    "                model.addConstr( eta <= x[i][t]/(self.d[i][t]*1.0) )\n",
    "        model.update()\n",
    "\n",
    "        model.setObjective( eta )\n",
    "\n",
    "        model.optimize()\n",
    "        \n",
    "        if model.Status == GRB.OPTIMAL:\n",
    "            obj_val = model.ObjVal\n",
    "            x_sol = []\n",
    "            for i in range(self.I):\n",
    "                x_sol_i = []\n",
    "                for t in range(self.T):\n",
    "                    x_sol_i.append(x[i][t].X)\n",
    "                x_sol.append(x_sol_i)\n",
    "        else:\n",
    "            obj_val = 0\n",
    "            x_sol = [ [epsilon for t in range(self.T)] for i in range(self.I) ]\n",
    "        return [obj_val, x_sol]"
   ]
  },
  {
   "cell_type": "code",
   "execution_count": 447,
   "metadata": {
    "collapsed": true
   },
   "outputs": [],
   "source": [
    "# d = [ [ 1, 2, 2, 1, 2, 1, 2, 3, 4, 2, \n",
    "#       2, 1, 30, 3, 3, 2, 5, 1, 2, 3,\n",
    "#       3, 3, 20, 1\n",
    "#     ] for i in range(I) ]\n",
    "# P = 230\n",
    "# C = [ 10, 59, 29, 18, 20, 15, 2, 3, 4, 2, \n",
    "#       25, 12, 12, 31, 33, 19, 50, 1, 2, 3,\n",
    "#       33, 32, 10, 10\n",
    "#     ]\n",
    "# print get_reward(d, P, C)"
   ]
  },
  {
   "cell_type": "code",
   "execution_count": 74,
   "metadata": {},
   "outputs": [
    {
     "name": "stdout",
     "output_type": "stream",
     "text": [
      "[NbConvertApp] Converting notebook reward.ipynb to script\n",
      "[NbConvertApp] Writing 3269 bytes to reward.py\n"
     ]
    }
   ],
   "source": [
    "# !jupyter nbconvert --to script reward.ipynb"
   ]
  },
  {
   "cell_type": "code",
   "execution_count": null,
   "metadata": {
    "collapsed": true
   },
   "outputs": [],
   "source": []
  }
 ],
 "metadata": {
  "kernelspec": {
   "display_name": "Python 2",
   "language": "python",
   "name": "python2"
  },
  "language_info": {
   "codemirror_mode": {
    "name": "ipython",
    "version": 2
   },
   "file_extension": ".py",
   "mimetype": "text/x-python",
   "name": "python",
   "nbconvert_exporter": "python",
   "pygments_lexer": "ipython2",
   "version": "2.7.13"
  }
 },
 "nbformat": 4,
 "nbformat_minor": 2
}
