{
 "cells": [
  {
   "cell_type": "code",
   "execution_count": 134,
   "metadata": {
    "collapsed": true
   },
   "outputs": [],
   "source": [
    "from math import *\n",
    "import numpy as np\n",
    "from scipy.interpolate import interp1d\n",
    "import matplotlib.pyplot as plt\n",
    "\n",
    "epsilon = 10e-6"
   ]
  },
  {
   "cell_type": "code",
   "execution_count": 205,
   "metadata": {
    "collapsed": true
   },
   "outputs": [],
   "source": [
    "class ArrivalController:\n",
    "    \n",
    "    period_num = 8;\n",
    "    slot_len = 3\n",
    "    slot_num = period_num * slot_len\n",
    "    episode_num = 100;\n",
    "    \n",
    "    def __init__(self, \n",
    "                 period_alpha = None , \n",
    "                 slot_alpha = None, \n",
    "                 latency_list = None\n",
    "                ):\n",
    "        if period_alpha == None:\n",
    "            self.period_alpha = np.array([0.1, 0.5, 1.7, 1.85, 1.75, 1.4, 0.1, 0.2]) * 100\n",
    "        else:\n",
    "            self.period_alpha = period_alpha\n",
    "            \n",
    "        if slot_alpha == None:\n",
    "            self.slot_alpha = np.array([1.0, 1.0, 1.0]) * 10\n",
    "        else:\n",
    "            self.slot_alpha = slot_alpha\n",
    "            \n",
    "        if latency_list == None:\n",
    "            self.latency_list = [10,12,5]\n",
    "        else:\n",
    "            self.latency_list = latency_list\n",
    "                \n",
    "        \n",
    "        def get_delta(object):\n",
    "            dirchlet_list = self.get_dirchlet_list('period')\n",
    "            delta = ArrivalController.period_num * dirchlet_list\n",
    "            return delta\n",
    "        \n",
    "        def get_eta(object):\n",
    "            eta = np.empty([1,0])\n",
    "            for i in range(ArrivalController.period_num):\n",
    "                dirchlet_list = ArrivalController.slot_len * self.get_dirchlet_list('slot')\n",
    "                eta = np.append(eta,dirchlet_list)\n",
    "            eta.shape = (ArrivalController.period_num, ArrivalController.slot_len)\n",
    "            return eta\n",
    "        \n",
    "        self.delta = get_delta(self)\n",
    "        self.eta = get_eta(self)\n",
    "    \n",
    "    def period_index(self, time_index):\n",
    "        return int(floor((time_index / ArrivalController.slot_len) % ArrivalController.period_num ))\n",
    "    \n",
    "    def slot_index(self, time_index):\n",
    "        return int(floor(time_index % ArrivalController.slot_len))\n",
    "    \n",
    "    def get_dirchlet_list(self, name):\n",
    "        if name == 'period':\n",
    "            return np.random.dirichlet(self.period_alpha).transpose()\n",
    "        elif name == 'slot':\n",
    "            return np.random.dirichlet(self.slot_alpha).transpose()\n",
    "        else:\n",
    "            return -1\n",
    "    \n",
    "    def set_latency(self,latency_list):\n",
    "        self.latency_list = latency_list\n",
    "    \n",
    "    def avg_rate(self):\n",
    "        return [30/(1.0*x) for x in self.latency_list]\n",
    "    \n",
    "    def get_lambda(self):\n",
    "        lam = []\n",
    "        for i in range(len(self.latency_list)):\n",
    "            lam_i = []\n",
    "            rate_i = self.avg_rate()[i]\n",
    "            for t in range(self.slot_num):\n",
    "                lam_it = ( rate_i * self.delta[self.period_index(t)]\n",
    "                     * self.eta[self.period_index(t), self.slot_index(t)] )\n",
    "                lam_i.append(lam_it)\n",
    "            lam.append(lam_i)\n",
    "        return lam\n",
    "    \n",
    "    def get_arrival_users(self):\n",
    "        user_num_list = []\n",
    "        lam = self.get_lambda()\n",
    "        for i in range(len(lam)):\n",
    "            user_num_i = []\n",
    "            for t in range(len(lam[0])):\n",
    "                user_num_it = np.random.poisson(lam[i][t])\n",
    "                if user_num_it == 0:\n",
    "                    user_num_it = epsilon\n",
    "                user_num_i.append(user_num_it)\n",
    "            user_num_list.append(user_num_i)\n",
    "        return user_num_list\n",
    "    \n",
    "    "
   ]
  },
  {
   "cell_type": "code",
   "execution_count": 210,
   "metadata": {},
   "outputs": [],
   "source": [
    "# period_alpha = np.array([0.1, 0.5, 1.7, 1.85, 1.75, 1.4, 0.1, 0.2]) * 100\n",
    "# slot_alpha = np.array([1.0, 1.0, 1.0]) * 10\n",
    "# latency_list = [10,12,5]\n",
    "# controller = ArrivalController()\n",
    "# np.array(controller.get_arrival_users())"
   ]
  },
  {
   "cell_type": "code",
   "execution_count": 209,
   "metadata": {
    "scrolled": true
   },
   "outputs": [
    {
     "name": "stdout",
     "output_type": "stream",
     "text": [
      "[NbConvertApp] Converting notebook arrival_rate.ipynb to script\n",
      "[NbConvertApp] Writing 3531 bytes to arrival_rate.py\n"
     ]
    }
   ],
   "source": [
    "# !jupyter nbconvert --to script arrival_rate.ipynb"
   ]
  },
  {
   "cell_type": "code",
   "execution_count": null,
   "metadata": {
    "collapsed": true
   },
   "outputs": [],
   "source": []
  }
 ],
 "metadata": {
  "kernelspec": {
   "display_name": "Python 2",
   "language": "python",
   "name": "python2"
  },
  "language_info": {
   "codemirror_mode": {
    "name": "ipython",
    "version": 2
   },
   "file_extension": ".py",
   "mimetype": "text/x-python",
   "name": "python",
   "nbconvert_exporter": "python",
   "pygments_lexer": "ipython2",
   "version": "2.7.13"
  }
 },
 "nbformat": 4,
 "nbformat_minor": 2
}
